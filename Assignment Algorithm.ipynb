{
 "cells": [
  {
   "cell_type": "markdown",
   "metadata": {
    "colab_type": "text",
    "id": "xaerXUudi9pO"
   },
   "source": [
    "\n",
    "# CS51 Assignment 2: Algorithms and Simulation\n",
    "\n",
    "This assignment has two distinct parts in addition to a reflection: Part 1 allows you to practice your algorithmic thinking skills and Part 2 allows you to gain a deeper understanding of numerical simulations. Material relevant for Part 1 will be covered during CS51 weeks 3-5 (especially session 5.2), while material relevant for Part 2 will be covered during weeks 6 and 7 (especially session 7.1). \n",
    "\n",
    "This is an individual assignment. We will be checking for similarities among submissions and will take plagiarism seriously.\n"
   ]
  },
  {
   "cell_type": "markdown",
   "metadata": {},
   "source": [
    "<div class='alert alert-block alert-success'>\n",
    "<b> <font size='6'>Starting of Part 1</font> </b>\n",
    "</div>"
   ]
  },
  {
   "cell_type": "markdown",
   "metadata": {
    "colab_type": "text",
    "id": "2r8WRqUvi9pP"
   },
   "source": [
    "## Part 1: Genetic Regression Algorithm  \n",
    "\n",
    "This portion of the assignment checks your understanding of Python code and algorithmic thinking. Your notebook contains a set of very poorly documented python functions. These functions attempt to use a genetic algorithm to find the regression line for a dataset by looking for the two coefficients of the line. For each function, you’ll write comments explaining what the function does step-by-step, and the roles they play in the genetic algorithm. You will have to spend a considerable amount of time playing with the code! Check out the Python tips section for helpful strategies."
   ]
  },
  {
   "cell_type": "markdown",
   "metadata": {},
   "source": [
    "### 1. Function Description [#algorithms, optimization]\n",
    "\n",
    "#### 1.1 For each of the functions **A to E**, add in-line comments to explain what the code is doing line-by-line. In addition to in-line comments, write a few sentences that address the following points. (50-100 words per annotation).\n",
    "\n",
    "* Identify the aspect of a genetic algorithm that the function pertains to and explain why this aspect is important for optimization.  \n",
    "\n",
    "* Describe how the function accomplishes its task.  \n",
    "\n",
    "* Specify the inputs, outputs, and any major data structures involved.  \n",
    "\n",
    "\n",
    "#### 1.2 Missing function: Function F currently does nothing. Use a process of elimination to determine, then describe, which common element of a genetic algorithm is missing from this program and could become F. Detail why this element of the algorithm is important for finding an optimal solution. Then, fill in function F with working code that accomplishes this task and explain how it works.\n",
    "\n",
    "#### 1.3 Be sure to also consider the “main program” portion of the code. Add comments and explain what this part does and how it connects to the functions."
   ]
  },
  {
   "cell_type": "markdown",
   "metadata": {},
   "source": [
    "### <i>Data Loading and Parameter Initialization</i>"
   ]
  },
  {
   "cell_type": "code",
   "execution_count": 1,
   "metadata": {
    "colab": {},
    "colab_type": "code",
    "id": "btPK66Coi9pQ"
   },
   "outputs": [],
   "source": [
    "# Genetic algorithm to fit a regression line of the form y=ax+b to a 2-variable dataset\n",
    "# importing necessary library\n",
    "import random \n",
    "import numpy as np\n",
    "import matplotlib.pyplot as plt                          \n",
    "\n",
    "# load the data and store in a numpy array\n",
    "my_data_file = 'temp_data.npy'\n",
    "data = np.load(my_data_file)\n",
    "\n",
    "# parameters\n",
    "initial_pop_size = 1000 \n",
    "mutation_rate = 0.30\n",
    "num_generations = 10 \n",
    "chromosome_length = 2\n",
    "num_survivors = 200"
   ]
  },
  {
   "cell_type": "markdown",
   "metadata": {},
   "source": [
    "### <i>Population Initialization</i>"
   ]
  },
  {
   "cell_type": "code",
   "execution_count": 2,
   "metadata": {
    "colab": {},
    "colab_type": "code",
    "id": "pgSADUyoi9pU"
   },
   "outputs": [],
   "source": [
    "#initiating initial population\n",
    "def A():\n",
    "    #creating a large population of possible value of a and b using linspace function\n",
    "    #which crates 5000 equal space values between -1 and 80 inclusively\n",
    "    gene_pool = np.linspace(-1,80,num = 5000)\n",
    "    \n",
    "    #Determining the dimension of our initial population where each element of the population\n",
    "    #is one posible pair of our solution (a,b)\n",
    "    dimensions = (initial_pop_size, chromosome_length)\n",
    "    \n",
    "    #randomly select our initial solution population, where each element is a pair of (a,b)\n",
    "    #from the large population of numbers without replacing a number after choosing\n",
    "    return np.random.choice(gene_pool, size=dimensions, replace=False)"
   ]
  },
  {
   "cell_type": "markdown",
   "metadata": {
    "colab_type": "text",
    "id": "wiL8sE9Qi9pX"
   },
   "source": [
    "- This function initializes a new population by random selection from 5000 equal spaced numbers between -1 and 80. Having such a large population to choose from allows us to have enough variance in the first generations.\n",
    "- It creates 5000 equal spaced number between -1 and 80 and then from this population randomly select our first generation according to the given parameter size without any repetition.\n",
    "- It takes no input and outputs a 2D (m x n) array where m is the number of candidate solution and n is the element in a single candidate solution.\n",
    "- Each candidate solution consists of 2 element, a and b: the slope and the intercept respectively."
   ]
  },
  {
   "cell_type": "markdown",
   "metadata": {},
   "source": [
    "### <i>Fitness Function</i>"
   ]
  },
  {
   "cell_type": "code",
   "execution_count": 3,
   "metadata": {
    "colab": {},
    "colab_type": "code",
    "id": "BbTmkKXWi9pY"
   },
   "outputs": [],
   "source": [
    "#calculating the fitness value, which is here the variance, the mean squared sum of error, SSE/n\n",
    "#which take input one of our possible solution pair (a,b) and outputs the SSE/n\n",
    "def B(coefficients):\n",
    "    k = len(data) # the total number of data points\n",
    "    tot = 0 #creating a variable to store the SSE\n",
    "    for j in range(k): # for each pair of our given dataset\n",
    "        #calculating the predicted value of y for x of the each pair\n",
    "        y = coefficients[0] * data[j,0] + coefficients[1]\n",
    "        #calculating the residual, the difference between the observed y value given in the dataset\n",
    "        #and predicted y value by the (ax+b) function, for each pair of data\n",
    "        res = data[j,1] - y\n",
    "        #adding the squared value of the residual\n",
    "        #taking square so that positive-negative the error doesn't cancel each other\n",
    "        tot += res**2\n",
    "    #output the average of the squared sum of error\n",
    "    return tot/k"
   ]
  },
  {
   "cell_type": "markdown",
   "metadata": {},
   "source": [
    "- This function calculates the fitness value for each candidate solution. This fitness function allows us to determine the better candidate solutions and to select the survivors. \n",
    "- Using the slope and intercept value and x from the data set, it calculates the predicted y by the equation and measures its difference from the observed y value given in the dataset. Then it calculates the variance, the average squared sum of the error. As the fitness value is the error, so the less it is the better the candidate solution.\n",
    "- As a fitness function, it takes input a candidate solution (here a array of 2 element) and returns its fitness value (here SSE/n)."
   ]
  },
  {
   "cell_type": "markdown",
   "metadata": {},
   "source": [
    "### <i>Array of Fitness Value</i>"
   ]
  },
  {
   "cell_type": "code",
   "execution_count": 4,
   "metadata": {
    "colab": {},
    "colab_type": "code",
    "id": "xtJndQcWi9pc"
   },
   "outputs": [],
   "source": [
    "#index of the candidate solutions in the population and their fitness value\n",
    "def C():\n",
    "    #creating an array for storing the fitness value according to their indexes\n",
    "    fitlist = [] \n",
    "    for x in range(len(current_pop)): #for every index of the current_pop array\n",
    "        #create a 2-element array, where the 1st one is the index and\n",
    "        #2nd element is the fitness value (here SSE/n) of the pair (a,b)\n",
    "        fitlist.append(np.array([x,B(current_pop[x])]))\n",
    "    return np.array(fitlist) #returning the fitlist as a numpy array"
   ]
  },
  {
   "cell_type": "markdown",
   "metadata": {
    "colab_type": "text",
    "id": "omKXqXQPi9pf"
   },
   "source": [
    "- This function creates an array of the fitness value of all candidate solutions of the current population respectively. It does not help particularly to optimization. But storing in an array helps the further use of fitness function and fitness values.\n",
    "- It creates an empty array. Then for each candidate solution of the current population, it creates their fitness value and stores them in the empty array according to their initial index\n",
    "- It takes no input and outputs the 2D array of row size of current population, where each row has the index of the candidate solution and respective fitness value."
   ]
  },
  {
   "cell_type": "markdown",
   "metadata": {},
   "source": [
    "### <i>Survivor Selection</i>"
   ]
  },
  {
   "cell_type": "code",
   "execution_count": 5,
   "metadata": {
    "colab": {},
    "colab_type": "code",
    "id": "R7akJrFxi9pg"
   },
   "outputs": [],
   "source": [
    "#select the survivors based on their fitness\n",
    "def D():\n",
    "    #from a population of integers 0 to the lenght of the fitness_vector array, randomly choose \n",
    "    #'num_survivors/2' number of integers without replacement and store in a array\n",
    "    # use of '//' operator outputs the closest integer smaller than the quotient \n",
    "    random_selection = np.random.choice(range(len(fitness_vector)), num_survivors//3, replace=False) \n",
    "    \n",
    "    #it compares those elements of the fitness vector whose indexes are equal to the elements of \n",
    "    #random selection array. Then outputs that index of random selection array, where the element is\n",
    "    #equal to the index of the least fitness value among them\n",
    "    best = np.argmin(fitness_vector[random_selection,1])\n",
    "   \n",
    "    # finding the index of the least fitness value among them\n",
    "    best_index = random_selection[best]\n",
    "    #return the (a,b) pair (woring as a chromosome) of the best index of current_pop, \n",
    "    return current_pop[int(fitness_vector[best_index][0])]    "
   ]
  },
  {
   "cell_type": "markdown",
   "metadata": {
    "colab_type": "text",
    "id": "MqIN7T8Ci9pi"
   },
   "source": [
    "- This function works for survivor selection. It randomly chooses some elements and finds the most fitted candidate solution among them. This random selection increases the probability of survivor for the most fitted solutions but also give space for some variations.\n",
    "- It randomly selects some integers from the integer list of 0 to the size of the current population. Then it compares the fitness value of the candidate solutions which have the index value equal to these selected integers. Only among these candidate solutions, it finds the one with the least fitness value.\n",
    "- It takes no input and outputs the candidate solution for which the fitness value is the minimum. \n"
   ]
  },
  {
   "cell_type": "markdown",
   "metadata": {},
   "source": [
    "### <i>Creating New Generation</i>"
   ]
  },
  {
   "cell_type": "code",
   "execution_count": 6,
   "metadata": {
    "colab": {},
    "colab_type": "code",
    "id": "ZahYoYiSi9pj"
   },
   "outputs": [],
   "source": [
    "#create a new generation by just duplicating the survivors\n",
    "def E():\n",
    "    #calculating how many more candidate solution needed to generate beside the survivors\n",
    "    #to complete our next generation\n",
    "    duplicate_size = len(new_population) - len(survivors)\n",
    "    #firstly, creating the necessary number of new arrays in which every value is 0\n",
    "    duplicate_survivors = np.zeros((duplicate_size, chromosome_length))\n",
    "    for x in range(chromosome_length): # for each column in the survivor array\n",
    "        duplicate_survivors[:, x] = np.repeat(survivors[:, x], 4, axis=0) # duplicate column 4 times\n",
    "        #make a random permutation of the candidate solutions of the new generations\n",
    "        duplicate_survivors[:, x] = np.random.permutation(duplicate_survivors[:, x])\n",
    "    #returning the new generation\n",
    "    return duplicate_survivors"
   ]
  },
  {
   "cell_type": "markdown",
   "metadata": {
    "colab_type": "text",
    "id": "-Ezqn5f-i9po"
   },
   "source": [
    "- This function generates a new population by duplicating the survivors. It helps to build new generations where only most fitted values are present. It increases the probability to find the best solution but sometimes decrease the variations.\n",
    "- First, it calculates how much new elements we need to create. Then it just copies the survivor solutions again and again. Before returning it shuffles the values inside the array to ensure randomization.\n",
    "- It takes no input and outputs the generated array of duplicate survivors."
   ]
  },
  {
   "cell_type": "markdown",
   "metadata": {},
   "source": [
    "### <i>Mutation</i>"
   ]
  },
  {
   "cell_type": "code",
   "execution_count": 7,
   "metadata": {
    "colab": {},
    "colab_type": "code",
    "id": "-peBLqMji9pp"
   },
   "outputs": [],
   "source": [
    "#tweak some randomly selected value to bring variations in population\n",
    "def F(array): \n",
    "    # dertermine the size of mutated candidate solutions \n",
    "    # using the mutation rate of the population\n",
    "    mutation_size = int(len(array)*mutation_rate)\n",
    "    \n",
    "    # randomly select 'mutation_size' number of indexes of the current population \n",
    "    # to tweak the candidate solutions of those indexes\n",
    "    mutation_selection = np.random.choice(range(len(array)), mutation_size, replace=False) \n",
    "    \n",
    "    for i in mutation_selection: # for each randomly selected index\n",
    "        # swap the two values of the candidate solution\n",
    "        array[i] = [array[i][1],array[i][0]]\n",
    "        \n",
    "    # returning the array with some mutated elements\n",
    "    return array"
   ]
  },
  {
   "cell_type": "markdown",
   "metadata": {
    "colab_type": "text",
    "id": "O6JL7-QCi9ps"
   },
   "source": [
    "- The major elements of a genetic algorithm are population initialization, fitness function calculation, crossover/mutation, survivor selection, new generation, and a termination condition. Function A works for population initialization, B is the fitness function, C works to store the fitness values, D is survivor selection, and lastly, E creates new generations. So, the missing important element is mutation/crossover. As one of our given parameters is ‘mutation_rate’, we could do mutation by Function F.\n",
    "- Mutation is the process of tweaking the values of some randomly selected values. This creates explorations and variations in the population space. Mutation ensures the existence of some other solutions with the most fitted solutions which mitigate the probability of getting stuck in a local optimum.\n",
    "- This function randomly selects some integers in the range of population size. Then it swaps the (slope, intercept) values of the candidate solutions whose indexes are equal to these randomly selected integers.\n",
    "- It takes the population array as an input and outputs the population array with some randomly mutated candidate solutions."
   ]
  },
  {
   "cell_type": "markdown",
   "metadata": {},
   "source": [
    "### <i>Main Function</i>"
   ]
  },
  {
   "cell_type": "code",
   "execution_count": 8,
   "metadata": {},
   "outputs": [
    {
     "name": "stdout",
     "output_type": "stream",
     "text": [
      "The best solution is [ 0.4744949  71.46089218]\n",
      "With error equal to approximately 24.404418378890924\n"
     ]
    }
   ],
   "source": [
    "# Start of main program\n",
    "# initialize a new population using our created function\n",
    "current_pop = A()\n",
    "# create a new population array of a size of 5 times of survivor array size\n",
    "# to store our next generations\n",
    "new_population = np.zeros((num_survivors * 5, chromosome_length))\n",
    "\n",
    "# main loop\n",
    "# iterate the loop for the previously selected number of generation\n",
    "for i in range(num_generations):   \n",
    "    #create a array with indexes similar to the current population indexes \n",
    "    # and their respected fitness value\n",
    "    fitness_vector = C()\n",
    "    \n",
    "    # create an array to store the survivors using np.zero function\n",
    "    survivors = np.zeros((num_survivors, chromosome_length))\n",
    "    \n",
    "    for n in range(len(survivors)): #for every element of the survivor array\n",
    "        # select the candidate selection using the survivor selection function\n",
    "        survivors[n] = D()\n",
    "    # insert the selected survivors in the next generation population\n",
    "    new_population[:len(survivors)] = survivors\n",
    "    # fill up the other spots of next genration using the duplicate function\n",
    "    new_population[len(survivors):] = E()\n",
    "    \n",
    "    # use mutation function to tweak some randomly selected candidate solution\n",
    "    new_population = F(new_population)\n",
    "    \n",
    "    # copied the next generation population in the array for current population\n",
    "    current_pop = new_population\n",
    "    \n",
    "    # change the next generation population by 0\n",
    "    # make it ready for storing next generations\n",
    "    new_population = np.zeros((num_survivors * 5, chromosome_length))\n",
    "\n",
    "#Create the array of fitness value of the last generation  \n",
    "fitness_vector = C()\n",
    "# the best solution is that value of current population, \n",
    "#for which fitness value is the minimum\n",
    "best_solution = current_pop[np.argmin(fitness_vector[:,1])]\n",
    "\n",
    "#printing the best solution for (a,b)\n",
    "print(\"The best solution is\", best_solution)\n",
    "#printing the SSE/n of our best solution\n",
    "print(\"With error equal to approximately\", B(best_solution))"
   ]
  },
  {
   "cell_type": "markdown",
   "metadata": {
    "colab_type": "text",
    "id": "bud3Sc2Bi9pv"
   },
   "source": [
    "- The main function connects all the predefined functions to complete the genetic algorithm. First, it generates our initial population using function A and keeps it in ‘current population’. It generates another empty (all values are 0) array named ‘new population’ for storing the next generations.\n",
    "\n",
    "- Then it started a loop which will be iterated for the pre-defined number of generations. In each iteration, it creates an array of the fitness values for each candidate solution of the current population according to their indexes.\n",
    "\n",
    "- It creates an empty array to store the survivors then select each survivor one by one using the function D again and again. Function D compares some randomly selected value of the fitness value array and returns the candidate solution corresponding the least fitness value among them.\n",
    "\n",
    "- Then it stores the survivor candidates in the new population and fills the other spaces using the duplicate of survivors generated by function E. Then it mutates some random value using the function F.\n",
    "\n",
    "- After reaching the predefined generation, the loop terminates. It calculates the fitness values of the last generation and outputs the best fitted (i.e. with least error) candidate solution with its error."
   ]
  },
  {
   "cell_type": "markdown",
   "metadata": {},
   "source": [
    "### <i>Comparison</i>"
   ]
  },
  {
   "cell_type": "code",
   "execution_count": 9,
   "metadata": {
    "colab": {},
    "colab_type": "code",
    "id": "0StffJhLi9px"
   },
   "outputs": [
    {
     "name": "stdout",
     "output_type": "stream",
     "text": [
      "(0.5399259393210745, 70.70997220684585)\n"
     ]
    }
   ],
   "source": [
    "# scipy regression function to compare with the genetic algorithm's solutions\n",
    "from scipy import stats\n",
    "print(stats.linregress(data)[0:2])"
   ]
  },
  {
   "cell_type": "markdown",
   "metadata": {
    "colab_type": "text",
    "id": "x_kVsOp4i9py"
   },
   "source": [
    "### 2. Overview [#optimization, #algorithms, #regression]\n",
    "\n",
    "#### 2.1 Write a paragraph to explain what the parameters at the top of the script are. By experimenting with varying parameter values, determine what values produce solutions that are closest to the actual solution most efficiently. Why do you think this is?  [~200 words]\n",
    "\n",
    "\n",
    "\n"
   ]
  },
  {
   "cell_type": "markdown",
   "metadata": {},
   "source": [
    "### <i>Parameter Values</i>"
   ]
  },
  {
   "cell_type": "markdown",
   "metadata": {},
   "source": [
    "Initial_pop_size is the size of the initial population. This is the number of candidate solutions the function will start working with. If we increase it, then we will have more individual candidate solution which can help us to find an optimum solution but takes more memory and time. \n",
    "\n",
    "Mutation_rate is the percentage of the current population which we wanted to mutate. A large mutation_rate will make more variations in our population. But too much mutation_rate would hinder to find an optimal solution quickly and may result in a non-optimum solution."
   ]
  },
  {
   "cell_type": "markdown",
   "metadata": {
    "colab_type": "text",
    "id": "Cxh_f3oji9p0"
   },
   "source": [
    "Num_genrations determines for how many generations we want to run our algorithm. Generally, for a complex problem, the more generations we have, the more optimum the solution but the runtime will increase. \n",
    "\n",
    "Chromosome_length is the number of elements in one candidate solution. Here we want to determine 2 elements: the slope, a and the intercept, b. So our chromosome length is 2 and we cannot change it in this problem.\n",
    "\n",
    "Num_survivor is the number of candidate solution we want to select for our next generation based on their fitness value."
   ]
  },
  {
   "cell_type": "markdown",
   "metadata": {},
   "source": [
    "From experimenting, the best values are:\n",
    "- initial_pop_size = 1000\n",
    "- mutation_rate = 0.30\n",
    "- num_generations = 10 \n",
    "- chromosome_length = 2\n",
    "- num_survivors = 200\n",
    "\n",
    "Initial_pop_size, mutation_rate, num_survivors are moderately large as expected, while the num_generations is not that much high because the solution doesn’t change after 4th or 5th iteration."
   ]
  },
  {
   "cell_type": "markdown",
   "metadata": {
    "colab_type": "text",
    "id": "27ohUCt4i9p0"
   },
   "source": [
    "\n",
    "#### 2.2 Write a paragraph that gives an overview of how this program solves the given task and what the output represents.  [~200 words]"
   ]
  },
  {
   "cell_type": "markdown",
   "metadata": {},
   "source": [
    "### <i>Program Description</i>"
   ]
  },
  {
   "cell_type": "markdown",
   "metadata": {
    "colab_type": "text",
    "id": "A1ZXhbUNi9p1"
   },
   "source": [
    "The problem is to find a regression line equation, y=ax+b for the given dataset. So, we need to know the slope, ‘a’ and the intercept, ‘b’, which can be any float number. Thus, each chromosome is a 2-element array consists of a and b.\n",
    "\n",
    "The algorithm takes the assumption that their value would be between -1 and 80 without any valid assumption. So, in general case, we should expand this range further on both sides.\n",
    "\n",
    "It creates many distinct values in this range and then randomly chooses a predefined number of 2-element float array. Each array represents a candidate solution and all of them creates the first generation.\n",
    "\n",
    "Then it calculates the average squared sum of error for regression line represented by each candidate solution. As a survivor, it randomly chooses some candidate solutions among the whole generation and finds the one with the least error among them. \n",
    "\n",
    "After selecting the survivors it copies them several times and shuffles among themselves. Lastly, to ensure some variations it randomly chooses some solution and swaps their (a,b) values. It runs the process until a predetermined generation, then terminates and outputs the solution with the least error.\n",
    "\n",
    "The output is an array consists of the optimal value of slope and intercepts respectively. Also, it prints the error value of that solution."
   ]
  },
  {
   "cell_type": "markdown",
   "metadata": {
    "colab_type": "text",
    "id": "yctx4pKdi9p2"
   },
   "source": [
    "### 3. Optional challenges (basic):\n",
    "\n",
    "For any attempted optional challenge, also indicate which HC(s) you are applying and why your solution constitutes a strong application.\n",
    "\n",
    "#### 3.1 Modify the program to include a visualization of how the error/fitness changes with each subsequent generation. Interpret this however you like, but make sure to include a detailed explanation.\n"
   ]
  },
  {
   "cell_type": "markdown",
   "metadata": {},
   "source": [
    "### <i>Visualization</i>"
   ]
  },
  {
   "cell_type": "code",
   "execution_count": 10,
   "metadata": {},
   "outputs": [
    {
     "name": "stdout",
     "output_type": "stream",
     "text": [
      "The best solution is [ 0.53930786 70.58591718]\n",
      "with error equal to approximately 23.47779313670476\n"
     ]
    },
    {
     "data": {
      "image/png": "[encoded data removed]",
      "text/plain": [
       "<Figure size 432x288 with 1 Axes>"
      ]
     },
     "metadata": {},
     "output_type": "display_data"
    }
   ],
   "source": [
    "# only the lines that are different than the previous code are commented\n",
    "current_pop = A()\n",
    "new_population = np.zeros((num_survivors * 5, chromosome_length))\n",
    "\n",
    "\n",
    "median_error = [0] # open an array to store median of fitness value\n",
    "max_error = [0] # open an array to store maximum fitness value\n",
    "min_error = [0] # open an array to store minimum fitness value\n",
    "# put the first element of the array as 0, so that the values for first \n",
    "# generation would store in the index no 1\n",
    "\n",
    "# main loop\n",
    "for i in range(num_generations):\n",
    "    fitness_vector = C()\n",
    "    \n",
    "    # appending the median, minimum and maximum of our fitness values in\n",
    "    # the respective arrays\n",
    "    median_error.append(np.median(fitness_vector[:,1]))\n",
    "    max_error.append(max(fitness_vector[:,1]))\n",
    "    min_error.append(min(fitness_vector[:,1]))\n",
    "    \n",
    "    survivors = np.zeros((num_survivors, chromosome_length))\n",
    "    for n in range(len(survivors)):\n",
    "        survivors[n] = D()\n",
    "    new_population[:len(survivors)] = survivors\n",
    "    new_population[len(survivors):] = E()\n",
    "    \n",
    "    new_population = F(new_population)\n",
    "    \n",
    "    current_pop = new_population\n",
    "    new_population = np.zeros((num_survivors * 5, chromosome_length))\n",
    "\n",
    "fitness_vector = C()\n",
    "best_solution = current_pop[np.argmin(fitness_vector[:,1])]\n",
    "print(\"The best solution is\", best_solution)\n",
    "print(\"with error equal to approximately\", B(best_solution))\n",
    "\n",
    "#plotting the min, max and median fitness value for each generation\n",
    "plt.plot(median_error[:], label='Median') #plotting and labelling the median\n",
    "plt.plot(max_error[:], label='Maximum') #plotting and labelling the maximum\n",
    "plt.plot(min_error[:], label='Minimum') #plotting and labelling the minimum\n",
    "plt.legend() #printing the legends\n",
    "#labelling y and x axis\n",
    "plt.xlabel('Number of Generations') \n",
    "plt.ylabel('Fitness Value, SSE/n')\n",
    "plt.title(\"Change in fitness value per generations\") #title\n",
    "plt.show()"
   ]
  },
  {
   "cell_type": "markdown",
   "metadata": {
    "colab_type": "text",
    "id": "Dg5Hjm0Oi9p3"
   },
   "source": [
    "### <i>Interpretation</i>"
   ]
  },
  {
   "cell_type": "markdown",
   "metadata": {},
   "source": [
    "I generated three empty array to store the median, minimum and maximum of all fitness values (in this case, error) for every generation. I set the value of index 0 as 0, so that the values for first generation would store in the index 0 and it become easier to plot according to the generation.\n",
    "\n",
    "Inside the main loop, after calculating all the fitness values, I determined the median, minumum and maximum of them and appended them in the respective array. After completing all the loop, I plotted three of them in a same graph as a function of generation with necessary legends and labels.\n",
    "\n",
    "From the graph, we can see that the maximum and median both goes very high for the first generation. But from the 2nd generation the medium become almost same as the minimum value, between 25-35 and their value never changes further. While, maximum value changes two more time and stop changing after 4th generation. The reason for huge fluctuation in the first generation happened possibly due to the random selection from a large population without considering any fitness function. Later it comes down, but the stability after 4th times maybe a cause of weak algorithm structure. If we can make the algorithm more effeciently, the median will possibly converge or goes very near to 0. "
   ]
  },
  {
   "cell_type": "markdown",
   "metadata": {},
   "source": [
    "*____*_*____*_*____*_*____*_*____*_*____* \n",
    "<font size=3 >\n",
    "    $^1$#dataviz: Plotted the graph following the rules of graph plotting with appropriate legends, identified the noticable trends and other parts of the graph and interpret the possible reasons behind this trend.\n",
    "</font>"
   ]
  },
  {
   "cell_type": "markdown",
   "metadata": {},
   "source": [
    "\n",
    "\n",
    "\n",
    "\n",
    "\n",
    "\n",
    "\n"
   ]
  },
  {
   "cell_type": "markdown",
   "metadata": {},
   "source": [
    "<div class='alert alert-block alert-success'>\n",
    "<b> <font size='6'>Starting of Part 2</font> </b>\n",
    "</div>"
   ]
  },
  {
   "cell_type": "markdown",
   "metadata": {
    "colab_type": "text",
    "id": "08MD-DVzi9qA"
   },
   "source": [
    "## Part 2: Lotka-Volterra Simulation\n",
    "\n",
    "In this portion of the assignment, you will produce code that uses Euler’s method to implement a simulation of the solutions of the Lotka-Volterra equations. In addition to providing more practice in Python programming, this project challenges you to understand numerical methods for solving differential equations, which will lead to a deeper understanding of these models."
   ]
  },
  {
   "cell_type": "markdown",
   "metadata": {
    "colab_type": "text",
    "id": "JqPEjbSwi9qA"
   },
   "source": [
    "### 1. Simulation Code [#algorithms, #simulation, #variables, #dataviz]\n",
    "\n",
    "Write code that inputs the initial ($t=0$) populations for predator and prey, parameter values, desired final output time, and time-step size ($h$), and outputs graphs of both predator and prey populations at each time-step on the same plot; final predicted population sizes for both predator and prey. \n",
    "\n",
    "* Write comments for each function you define, specifying inputs and outputs, along with a brief description of what the function does.\n",
    "* Consider your initial parameter inputs. Explain how the result changes as you vary the initial parameters. Can you find a set of initial parameters that produce stable cyclic population dynamics? Explain the significance of this."
   ]
  },
  {
   "cell_type": "code",
   "execution_count": 11,
   "metadata": {
    "colab": {},
    "colab_type": "code",
    "id": "D5Jdco2ti9qC"
   },
   "outputs": [],
   "source": [
    "# input parameters of this function are\n",
    "# x0 = initial prey population\n",
    "# y0 = initial predator population\n",
    "# a,b,c,d = Lotka-Volterra parameters: alpha, beta, gamma and delta\n",
    "# t_out = desired final output time\n",
    "# h = time-step size\n",
    "def LV_simulation(x0,y0,a,b,c,d,t_out,h):\n",
    "    x = x0 # the initial value of x\n",
    "    y = y0 # the initial value of y\n",
    "    t = 0 # the starting time\n",
    "    \n",
    "    time = [t] # create an array to store all the time-steps\n",
    "    prey = [x] # create an array to store the prey population in each time-steps\n",
    "    predator = [y] # create an array to store the predator population in each time-steps\n",
    "    \n",
    "    while(t<=t_out): # loop until the time reached to the desired final time\n",
    "        \n",
    "        # I take the formula generated in class 7.1 combining the Lotka-Volteraa model and Euler method\n",
    "        # The three formula that I used are given below of this code as an image\n",
    "        # calculate the new value of t based on its previous value\n",
    "        t = t + h \n",
    "        # calculate the new value of x based on its previous value\n",
    "        x = x + h*(a*x-b*x*y)\n",
    "        # calculate the new value of y based on its previous value\n",
    "        y = y + h*(d*x*y-c*y)\n",
    "        \n",
    "        time.append(t) # appending the current value of t in the time array\n",
    "        prey.append(x) # appending the current value of prey population in prey array\n",
    "        predator.append(y) # appending the current value of predator population \n",
    "    \n",
    "    # creating a line graph of prey population vs timesteps and labelling it as 'Prey'\n",
    "    plt.plot(time,prey, label='Prey')\n",
    "    # creating a graph of predator population vs timesteps and labelling it as 'Prey'\n",
    "    plt.plot(time,predator, label='Predator')\n",
    "    \n",
    "    plt.xlabel('Time(unit)') #labelling the x axis\n",
    "    plt.ylabel('Population(unit)') #labelling the y axis\n",
    "    plt.legend() #showing the legends\n",
    "    plt.title('Predator-prey population graph') # give a title \n",
    "    plt.show() #showing the plot\n",
    "    \n",
    "    # returning the final population of prey and predator population\n",
    "    print('(Prey,Predator):')\n",
    "    return (x,y)\n"
   ]
  },
  {
   "cell_type": "markdown",
   "metadata": {},
   "source": [
    "### <i>Used Formula</i>"
   ]
  },
  {
   "cell_type": "code",
   "execution_count": 12,
   "metadata": {},
   "outputs": [
    {
     "data": {
      "image/png": "[encoded data removed]",
      "text/plain": [
       "<IPython.core.display.Image object>"
      ]
     },
     "execution_count": 12,
     "metadata": {},
     "output_type": "execute_result"
    }
   ],
   "source": [
    "from IPython.display import Image\n",
    "\n",
    "Image(\"LV formula.png\")"
   ]
  },
  {
   "cell_type": "markdown",
   "metadata": {},
   "source": [
    "### <i>Running the simulation:</i>"
   ]
  },
  {
   "cell_type": "code",
   "execution_count": 13,
   "metadata": {},
   "outputs": [
    {
     "data": {
      "image/png": "[encoded data removed]",
      "text/plain": [
       "<Figure size 432x288 with 1 Axes>"
      ]
     },
     "metadata": {},
     "output_type": "display_data"
    },
    {
     "name": "stdout",
     "output_type": "stream",
     "text": [
      "(Prey,Predator):\n"
     ]
    },
    {
     "data": {
      "text/plain": [
       "(30.629071292611652, 253.56896515967222)"
      ]
     },
     "execution_count": 13,
     "metadata": {},
     "output_type": "execute_result"
    }
   ],
   "source": [
    "LV_simulation(150,100,0.5,0.002,0.4,0.004,250,0.01)\n",
    "#parameters taken from http://www.math.utah.edu/~davis/1180FILES/lab2.pdf"
   ]
  },
  {
   "cell_type": "markdown",
   "metadata": {},
   "source": [
    "### <i>Description and Parameter Values</i>"
   ]
  },
  {
   "cell_type": "markdown",
   "metadata": {},
   "source": [
    "The function takes the initial prey and predator population, parameters of Lotka-Volterra Model, step size and the final output time. Applying Euler's method in the Lotka-Volterra model, it calculates the value of the next time steps and the population of the prey and predator on each time steps from the previous value of them. It iterates again and again until it reaches to the desired final time and finally outputs the prey and predator population on that time. It also saves the value of these three variables for each timesteps to plot a graph showing their change in population through time.\n",
    "\n",
    "Any change in the initial value of the 4 parameters of the function can change the population change drastically. But generally we can get a stable cyclic population when the $\\alpha$ and $\\gamma$ are in $10$$^-$$^1$ magnitude and the $\\beta$ and $\\delta$ are in the magnitude of $10$$^-$$^3$. A smaller time step gives a more smooth graph as the discrete points are more closely to each other."
   ]
  },
  {
   "cell_type": "markdown",
   "metadata": {
    "colab_type": "text",
    "id": "rP3dQlgDi9qF"
   },
   "source": [
    "### 2. Simulation Analysis [#simulation, #modeling]: \n",
    "\n",
    "Write a 500-word paper analyzing this simulation and comparing/contrasting it with the NetLogo Wolf Sheep Predation model from class. Address the following points in your write-up:\n",
    "\n",
    "a) Are there any differences between the assumptions of the Lotka-Volterra model and the assumptions of your simulation? For example, consider whether the model and simulation are continuous or discrete.\n",
    "\n",
    "b) How does your simulation contrast with an analytical approach to deriving the implications of the Lotka-Volterra model?\n",
    "\n",
    "c) Compare and contrast your simulation with the NetLogo Wolf Sheep Predation simulation.\n",
    "\n",
    "* Is each simulation stochastic or deterministic?\n",
    "* Do they have differing assumptions?\n",
    "* Do they give differing results?\n",
    "* Which of them seems to be a more realistic representation of nature? Why?\n"
   ]
  },
  {
   "cell_type": "markdown",
   "metadata": {},
   "source": [
    "### <i>Analysis:</i>"
   ]
  },
  {
   "cell_type": "markdown",
   "metadata": {
    "colab_type": "text",
    "id": "3oWy1Aqhi9qG"
   },
   "source": [
    "a) The main difference between the assumptions of the Lotka-Volterra model and this simulation is the solution approach. The Lotka-Volterra model use a differential equation which can be solved analytically and we can determine the prey and predator population as a constant function of time. So it is possible to know the value of them at any given time, which makes the model continuous.\n",
    "\n",
    "But this simulation use Euler's method and compute result numerically. We only have some specific data pairs but not any constant function. We knows the approximate value of the prey and predator population for each time steps but not in between any two time steps. So, it is a discrete simulation.\n",
    "\n",
    "b) An analytical approach would give us two constant functions: the population of prey and predator as a function of time. We could use the function to make a visualization or determine prey or predator population at any given time. We need not to know necessarily the prey and population in the immediately previous time for calculating the current population.\n",
    "\n",
    "In our simulation, we don’t solve any direct differential equation. We changed it in an algebraic recursive equation and each time calculate a numerical value from each equation. As we are using a numerical approach in the simulation, we cannot determine their population at any given time. It doesn’t give us any formula. It only gives a list of prey and predator population in different time steps. Here the further we go from the initial time, our approximation of population accumulates more error in calculation. If we want to approximate the population at a far distant than the initial time, we need to calculate populations of each of the previous time steps first.\n",
    "\n",
    "c) Though we used an numerical approach, we used a mathematical formula. So as long as the inputs are the same, the output will be always the same. It doesn’t have any random portion So, it is a deterministic simulation. But the NetLogo simulation uses a random function to determine the movement of the sheep and wolf, so every time we run the simulation, it gives slightly different value, which makes it a stochastic simulation.\n",
    "\n",
    "In our simulation, we usethese simulations of the Lotka-Volterra model (M. Beals et al, 1999):\n",
    "- The prey population always have ample food\n",
    "- Environment stays the same all the time\n",
    "- Predators always have an appetite for prey.\n",
    "- The food of predator totally depends on the prey population.\n",
    "- Population changes at a rate proportional to their size\n",
    "\n",
    "Whereas the assumptions for the NetLogo model (not including grass behavior) are similar for the first three. But they differ in the assumptions for population increase or death. NetLogo model assumes: \n",
    "- Wolve lose energy at each time steps and each movement. But they can live as long as they are eating sheep in each step.\n",
    "- Wolf and sheep have a fixed probability of reproducing at each time step. \n",
    "\n",
    "So, though the first three assumptions are similar, the assumption for population increase or death is different in two models. But the wolf-sheep-grass version differs in the first assumptions too. (Wilensky, 1997)\n",
    " \n",
    "\n",
    "They give a slightly different result but the difference is hard to specify as I do not have many testcases for my simulation. For optimum parameter value, my simulation can result in periodic stable predator-prey population. But the NetLogo version without grass never stays stable. Only the wolf-sheep-grass model becomes stable for some specific parameter values.\n",
    "\n",
    "Though both of them represents the system very differently according to their assumptions and approach, in my opinion, the NetLogo model seems to be more representative of nature. It assumes that the interaction and movement among the sheep-wolf happen randomly which is more realistic.\n"
   ]
  },
  {
   "cell_type": "markdown",
   "metadata": {
    "colab_type": "text",
    "id": "OzIXVBfHi9qI"
   },
   "source": [
    "### 3. Optional [#simulation, #modeling]: \n",
    "\n",
    "In the following resource, read the back story on slide 3 and the explanation provided on slide 14. Then, modify your code above to examine the explanation given for why the number of predatory fishes increased after WWI. How do your simulated results compare to the analytical explanation? \n",
    "\n",
    "Sternberg, S. (2009). Lecture 15 Lotka-Volterra. Retrieved from http://www.math.harvard.edu/library/sternberg/slides/11809LV.pdf.\n"
   ]
  },
  {
   "cell_type": "code",
   "execution_count": 14,
   "metadata": {
    "colab": {},
    "colab_type": "code",
    "id": "TzJ04_22i9qJ"
   },
   "outputs": [],
   "source": [
    "# only the lines that are different than the previous code are commented\n",
    "# takes another two parameter, k and m as described in harvard slides\n",
    "# k = the amount of increse in the parameter for growth population of prey\n",
    "# new growth parameter for prey = a + k\n",
    "# m = the amount of decrease in the parameter for death population of predator\n",
    "# new death parameter for predator = c - m\n",
    "def LV_simulation_WWII(x0,y0,a,b,c,d,k,m,t_out,h):\n",
    "    x = x0\n",
    "    y = y0\n",
    "    t = 0\n",
    "    \n",
    "    time = [t]\n",
    "    prey = [x]\n",
    "    predator = [y]\n",
    "    \n",
    "    while(t<=t_out):\n",
    "        t = t + h\n",
    "        # change in growth parameter,\n",
    "        # a = a' - k [a' = withut fishing]\n",
    "        # so, a'x = ax + kx\n",
    "        x = x + h*(a*x+k*x-b*x*y) \n",
    "        # change in death parameter,\n",
    "        # c = c' + m [c' = without fishing]\n",
    "        # so, c'y = cy + my\n",
    "        y = y + h*(d*x*y-c*y-m*y)\n",
    "        \n",
    "        time.append(t)\n",
    "        prey.append(x)\n",
    "        predator.append(y)\n",
    "        \n",
    "    plt.plot(time,prey, label='Prey')\n",
    "    plt.plot(time,predator, label='Predator')\n",
    "    plt.xlabel('Time(unit)')\n",
    "    plt.ylabel('Population(unit)')\n",
    "    plt.legend()\n",
    "    plt.title('Predator-prey population graph')\n",
    "    plt.show()\n",
    "    \n",
    "    print('(Prey,Predator):')\n",
    "    return (x,y)\n",
    "# Add more cells (code or markdown) as needed\n",
    "# Add more cells (code or markdown) as needed"
   ]
  },
  {
   "cell_type": "code",
   "execution_count": 15,
   "metadata": {},
   "outputs": [
    {
     "data": {
      "image/png": "[encoded data removed]",
      "text/plain": [
       "<Figure size 432x288 with 1 Axes>"
      ]
     },
     "metadata": {},
     "output_type": "display_data"
    },
    {
     "name": "stdout",
     "output_type": "stream",
     "text": [
      "(Prey,Predator):\n"
     ]
    },
    {
     "data": {
      "text/plain": [
       "(252.90292175583662, 153.9553093875682)"
      ]
     },
     "execution_count": 15,
     "metadata": {},
     "output_type": "execute_result"
    }
   ],
   "source": [
    "LV_simulation_WWII(150,100,0.5,0.002,0.4,0.004,0.1,0.1,250,0.01)"
   ]
  },
  {
   "cell_type": "markdown",
   "metadata": {},
   "source": [
    "### <i>Analysis:</i>"
   ]
  },
  {
   "cell_type": "markdown",
   "metadata": {},
   "source": [
    "According to the slide, in normal condition fishing decrease the growth rate of the prey a significant amount, k. If the growth rate without fishing is a', then with fishing it will be, a = a' - k.\n",
    "Similarly, due to the less amount of prey available, in normal condition the predator has less food and their death rate increase at a rate, m. If the death rate without fishing is c', then with fishing it will be, c = c' + m.\n",
    "\n",
    "So, when there is no fishing, the amount of prey become more available and thus there is more food for predator, which decreases the death rate of predator. So, there is a significant increase of predator population.\n",
    "\n",
    "This explanation is supported by my simulation, where I just added the extra parameters, k and m in the formula. As a result of no fishing the predator population goes as high as 700 with the same parameter used in the previous simulation. While we have seen in the previous simulation, for normal condition the predator population cannot go higher than 500 for this sets of parameters."
   ]
  },
  {
   "cell_type": "markdown",
   "metadata": {},
   "source": [
    "<div class='alert alert-block alert-success'>\n",
    "<b> <font size='6'>Reflection</font> </b>\n",
    "</div>"
   ]
  },
  {
   "cell_type": "markdown",
   "metadata": {
    "colab_type": "text",
    "id": "DS6Irh7Wi9qM"
   },
   "source": [
    "Describe how you obtained the knowledge to complete the assignment, being sure to include attributions to specific individuals or groups who helped you and how they helped. You should elaborate on any strategies you used to assess your own understanding of the material. [#selfawareness] (<100 words)"
   ]
  },
  {
   "cell_type": "markdown",
   "metadata": {
    "colab_type": "text",
    "id": "DWKMQQY_i9qN"
   },
   "source": [
    "I used the readings from both session 5.2 and 7.1 to understand the concepts more. Specially for the genetic algorithm I read from the tutorials point and for Lotka-Volterra I used the wikipedia readings. I cited the sources where I found the assumptions of Lotka-Volterra and NetLogo model. I used the parameters of my simulation found in a reading of Utah University. I used a css code found in stackoverflow (Aquagremlin, 2015) to change the fontcolor, size and some style of the notebook."
   ]
  },
  {
   "cell_type": "markdown",
   "metadata": {},
   "source": [
    "## Reference"
   ]
  },
  {
   "cell_type": "markdown",
   "metadata": {},
   "source": [
    "Aquagremlin. (2015). How to change the font size and color of markdown cell in Ipython (py 2.7) notebook. Retrieved from https://stackoverflow.com/questions/34303422/how-to-change-the-font-size-and-color-of-markdown-cell-in-ipython-py-2-7-noteb\n",
    "\n",
    "Lotka–Volterra equations. (n.d.). In Wikipedia, The Free Encyclopedia. Retrieved from https://en.wikipedia.org/wiki/Lotka%E2%80%93Volterra_equations\n",
    "\n",
    "Math 1180 - Mathematics for Life Scientists. (2017). Retrieved from http://www.math.utah.edu/~davis/1180FILES/lab2.pdf\n",
    "\n",
    "M. Beals, L. Gross, & S. Harrell. (1999). Predator-prey Dynamics: Lotka-Volterra. Retrieved from http://www.tiem.utk.edu/~gross/bioed/bealsmodules/predator-prey.html\n",
    "\n",
    "TutorialsPoint. (2017). Genetic Algorithms. Retrieved from https://www.tutorialspoint.com/genetic_algorithms/genetic_algorithms_introduction.htm\n",
    "\n",
    "Wilensky, U. (1997). NetLogo Models Library: Wolf Sheep Predation. Retrieved from http://ccl.northwestern.edu/netlogo/models/WolfSheepPredation\n"
   ]
  },
  {
   "cell_type": "code",
   "execution_count": 16,
   "metadata": {},
   "outputs": [
    {
     "data": {
      "text/html": [
       " \n",
       "<style>\n",
       "\n",
       "div.text_cell_render h1 { /* Main titles bigger, centered */\n",
       "font-size: 2.2em;\n",
       "line-height:1.4em;\n",
       "text-align:center;\n",
       "}\n",
       "\n",
       "div.text_cell_render h2 { /*  Tune the space for the subtitle too */\n",
       "margin-top:0.5em;\n",
       "margin-bottom: 0.5em;\n",
       "}\n",
       "\n",
       "div.cell { /* Tunes the space between cells */\n",
       "margin-top:1em;\n",
       "margin-bottom:1em;\n",
       "}\n",
       "\n",
       "div.text_cell_render { /* Customize text cells */\n",
       "font-family: 'Times New Roman';\n",
       "font-size:1.5em;\n",
       "line-height:1.4em;\n",
       "padding-left:3em;\n",
       "padding-right:3em;\n",
       "}\n",
       "</style>\n"
      ],
      "text/plain": [
       "<IPython.core.display.HTML object>"
      ]
     },
     "execution_count": 16,
     "metadata": {},
     "output_type": "execute_result"
    }
   ],
   "source": [
    "#CSS code for changing some style of notebook\n",
    "from IPython.core.display import HTML\n",
    "HTML(\"\"\" \n",
    "<style>\n",
    "\n",
    "div.text_cell_render h1 { /* Main titles bigger, centered */\n",
    "font-size: 2.2em;\n",
    "line-height:1.4em;\n",
    "text-align:center;\n",
    "}\n",
    "\n",
    "div.text_cell_render h2 { /*  Tune the space for the subtitle too */\n",
    "margin-top:0.5em;\n",
    "margin-bottom: 0.5em;\n",
    "}\n",
    "\n",
    "div.cell { /* Tunes the space between cells */\n",
    "margin-top:1em;\n",
    "margin-bottom:1em;\n",
    "}\n",
    "\n",
    "div.text_cell_render { /* Customize text cells */\n",
    "font-family: 'Times New Roman';\n",
    "font-size:1.5em;\n",
    "line-height:1.4em;\n",
    "padding-left:3em;\n",
    "padding-right:3em;\n",
    "}\n",
    "</style>\n",
    "\"\"\")"
   ]
  }
 ],
 "metadata": {
  "colab": {
   "name": "Assignment 2 Algorithms and Simulation Spring 2019 Notebook.ipynb",
   "provenance": [],
   "version": "0.3.2"
  },
  "kernelspec": {
   "display_name": "Python 3",
   "language": "python",
   "name": "python3"
  },
  "language_info": {
   "codemirror_mode": {
    "name": "ipython",
    "version": 3
   },
   "file_extension": ".py",
   "mimetype": "text/x-python",
   "name": "python",
   "nbconvert_exporter": "python",
   "pygments_lexer": "ipython3",
   "version": "3.6.5"
  }
 },
 "nbformat": 4,
 "nbformat_minor": 1
}
